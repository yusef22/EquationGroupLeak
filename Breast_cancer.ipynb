{
  "nbformat": 4,
  "nbformat_minor": 0,
  "metadata": {
    "colab": {
      "name": "Welcome To Colaboratory",
      "provenance": [],
      "collapsed_sections": [],
      "toc_visible": true,
      "include_colab_link": true
    },
    "kernelspec": {
      "display_name": "Python 3",
      "name": "python3"
    }
  },
  "cells": [
    {
      "cell_type": "markdown",
      "metadata": {
        "id": "view-in-github",
        "colab_type": "text"
      },
      "source": [
        "<a href=\"https://colab.research.google.com/github/yusef22/EquationGroupLeak/blob/master/Breast_cancer.ipynb\" target=\"_parent\"><img src=\"https://colab.research.google.com/assets/colab-badge.svg\" alt=\"Open In Colab\"/></a>"
      ]
    },
    {
      "cell_type": "code",
      "metadata": {
        "id": "6oWxdb7gmrxA",
        "colab_type": "code",
        "colab": {
          "base_uri": "https://localhost:8080/",
          "height": 35
        },
        "outputId": "9ea99bd1-6a36-47b1-f1c9-d68c285a02f0"
      },
      "source": [
        "\n",
        "import tensorflow as tf\n",
        "print(tf.__version__)"
      ],
      "execution_count": 2,
      "outputs": [
        {
          "output_type": "stream",
          "text": [
            "2.0.0-beta1\n"
          ],
          "name": "stdout"
        }
      ]
    },
    {
      "cell_type": "code",
      "metadata": {
        "id": "KWugxgBUn1ub",
        "colab_type": "code",
        "colab": {}
      },
      "source": [
        "from sklearn.datasets import load_breast_cancer"
      ],
      "execution_count": 0,
      "outputs": []
    },
    {
      "cell_type": "code",
      "metadata": {
        "id": "IIq5v9AlodVU",
        "colab_type": "code",
        "colab": {}
      },
      "source": [
        "data = load_breast_cancer()"
      ],
      "execution_count": 0,
      "outputs": []
    },
    {
      "cell_type": "code",
      "metadata": {
        "id": "EbcFUZcNoiUn",
        "colab_type": "code",
        "colab": {
          "base_uri": "https://localhost:8080/",
          "height": 35
        },
        "outputId": "74809626-5d4e-4336-d306-3770209490ef"
      },
      "source": [
        "type(data)"
      ],
      "execution_count": 5,
      "outputs": [
        {
          "output_type": "execute_result",
          "data": {
            "text/plain": [
              "sklearn.utils.Bunch"
            ]
          },
          "metadata": {
            "tags": []
          },
          "execution_count": 5
        }
      ]
    },
    {
      "cell_type": "code",
      "metadata": {
        "id": "3_ZxbESUopQX",
        "colab_type": "code",
        "colab": {
          "base_uri": "https://localhost:8080/",
          "height": 35
        },
        "outputId": "3de8d5c2-f41e-4c05-a24f-4b01927de1e7"
      },
      "source": [
        "data.keys()"
      ],
      "execution_count": 6,
      "outputs": [
        {
          "output_type": "execute_result",
          "data": {
            "text/plain": [
              "dict_keys(['data', 'target', 'target_names', 'DESCR', 'feature_names', 'filename'])"
            ]
          },
          "metadata": {
            "tags": []
          },
          "execution_count": 6
        }
      ]
    },
    {
      "cell_type": "code",
      "metadata": {
        "id": "JQK56zCVo1RU",
        "colab_type": "code",
        "colab": {
          "base_uri": "https://localhost:8080/",
          "height": 35
        },
        "outputId": "b7a2300a-b384-46bd-9c85-e8765d2157c8"
      },
      "source": [
        "data.data.shape"
      ],
      "execution_count": 7,
      "outputs": [
        {
          "output_type": "execute_result",
          "data": {
            "text/plain": [
              "(569, 30)"
            ]
          },
          "metadata": {
            "tags": []
          },
          "execution_count": 7
        }
      ]
    },
    {
      "cell_type": "code",
      "metadata": {
        "id": "HrBPOInPpDD0",
        "colab_type": "code",
        "colab": {
          "base_uri": "https://localhost:8080/",
          "height": 468
        },
        "outputId": "473f3fdd-9306-4df0-b0e2-05cf1d4b52fe"
      },
      "source": [
        "data.target"
      ],
      "execution_count": 8,
      "outputs": [
        {
          "output_type": "execute_result",
          "data": {
            "text/plain": [
              "array([0, 0, 0, 0, 0, 0, 0, 0, 0, 0, 0, 0, 0, 0, 0, 0, 0, 0, 0, 1, 1, 1,\n",
              "       0, 0, 0, 0, 0, 0, 0, 0, 0, 0, 0, 0, 0, 0, 0, 1, 0, 0, 0, 0, 0, 0,\n",
              "       0, 0, 1, 0, 1, 1, 1, 1, 1, 0, 0, 1, 0, 0, 1, 1, 1, 1, 0, 1, 0, 0,\n",
              "       1, 1, 1, 1, 0, 1, 0, 0, 1, 0, 1, 0, 0, 1, 1, 1, 0, 0, 1, 0, 0, 0,\n",
              "       1, 1, 1, 0, 1, 1, 0, 0, 1, 1, 1, 0, 0, 1, 1, 1, 1, 0, 1, 1, 0, 1,\n",
              "       1, 1, 1, 1, 1, 1, 1, 0, 0, 0, 1, 0, 0, 1, 1, 1, 0, 0, 1, 0, 1, 0,\n",
              "       0, 1, 0, 0, 1, 1, 0, 1, 1, 0, 1, 1, 1, 1, 0, 1, 1, 1, 1, 1, 1, 1,\n",
              "       1, 1, 0, 1, 1, 1, 1, 0, 0, 1, 0, 1, 1, 0, 0, 1, 1, 0, 0, 1, 1, 1,\n",
              "       1, 0, 1, 1, 0, 0, 0, 1, 0, 1, 0, 1, 1, 1, 0, 1, 1, 0, 0, 1, 0, 0,\n",
              "       0, 0, 1, 0, 0, 0, 1, 0, 1, 0, 1, 1, 0, 1, 0, 0, 0, 0, 1, 1, 0, 0,\n",
              "       1, 1, 1, 0, 1, 1, 1, 1, 1, 0, 0, 1, 1, 0, 1, 1, 0, 0, 1, 0, 1, 1,\n",
              "       1, 1, 0, 1, 1, 1, 1, 1, 0, 1, 0, 0, 0, 0, 0, 0, 0, 0, 0, 0, 0, 0,\n",
              "       0, 0, 1, 1, 1, 1, 1, 1, 0, 1, 0, 1, 1, 0, 1, 1, 0, 1, 0, 0, 1, 1,\n",
              "       1, 1, 1, 1, 1, 1, 1, 1, 1, 1, 1, 0, 1, 1, 0, 1, 0, 1, 1, 1, 1, 1,\n",
              "       1, 1, 1, 1, 1, 1, 1, 1, 1, 0, 1, 1, 1, 0, 1, 0, 1, 1, 1, 1, 0, 0,\n",
              "       0, 1, 1, 1, 1, 0, 1, 0, 1, 0, 1, 1, 1, 0, 1, 1, 1, 1, 1, 1, 1, 0,\n",
              "       0, 0, 1, 1, 1, 1, 1, 1, 1, 1, 1, 1, 1, 0, 0, 1, 0, 0, 0, 1, 0, 0,\n",
              "       1, 1, 1, 1, 1, 0, 1, 1, 1, 1, 1, 0, 1, 1, 1, 0, 1, 1, 0, 0, 1, 1,\n",
              "       1, 1, 1, 1, 0, 1, 1, 1, 1, 1, 1, 1, 0, 1, 1, 1, 1, 1, 0, 1, 1, 0,\n",
              "       1, 1, 1, 1, 1, 1, 1, 1, 1, 1, 1, 1, 0, 1, 0, 0, 1, 0, 1, 1, 1, 1,\n",
              "       1, 0, 1, 1, 0, 1, 0, 1, 1, 0, 1, 0, 1, 1, 1, 1, 1, 1, 1, 1, 0, 0,\n",
              "       1, 1, 1, 1, 1, 1, 0, 1, 1, 1, 1, 1, 1, 1, 1, 1, 1, 0, 1, 1, 1, 1,\n",
              "       1, 1, 1, 0, 1, 0, 1, 1, 0, 1, 1, 1, 1, 1, 0, 0, 1, 0, 1, 0, 1, 1,\n",
              "       1, 1, 1, 0, 1, 1, 0, 1, 0, 1, 0, 0, 1, 1, 1, 0, 1, 1, 1, 1, 1, 1,\n",
              "       1, 1, 1, 1, 1, 0, 1, 0, 0, 1, 1, 1, 1, 1, 1, 1, 1, 1, 1, 1, 1, 1,\n",
              "       1, 1, 1, 1, 1, 1, 1, 1, 1, 1, 1, 1, 0, 0, 0, 0, 0, 0, 1])"
            ]
          },
          "metadata": {
            "tags": []
          },
          "execution_count": 8
        }
      ]
    },
    {
      "cell_type": "code",
      "metadata": {
        "id": "X5DaXWSZpN4G",
        "colab_type": "code",
        "colab": {
          "base_uri": "https://localhost:8080/",
          "height": 35
        },
        "outputId": "732a7785-b137-49cd-8a53-f4faa91bd169"
      },
      "source": [
        "data.target_names"
      ],
      "execution_count": 9,
      "outputs": [
        {
          "output_type": "execute_result",
          "data": {
            "text/plain": [
              "array(['malignant', 'benign'], dtype='<U9')"
            ]
          },
          "metadata": {
            "tags": []
          },
          "execution_count": 9
        }
      ]
    },
    {
      "cell_type": "code",
      "metadata": {
        "id": "EqIbhEYipUJS",
        "colab_type": "code",
        "colab": {
          "base_uri": "https://localhost:8080/",
          "height": 35
        },
        "outputId": "bc5f6a93-b8cf-4827-9d15-c889640e2160"
      },
      "source": [
        "data.target.shape"
      ],
      "execution_count": 10,
      "outputs": [
        {
          "output_type": "execute_result",
          "data": {
            "text/plain": [
              "(569,)"
            ]
          },
          "metadata": {
            "tags": []
          },
          "execution_count": 10
        }
      ]
    },
    {
      "cell_type": "code",
      "metadata": {
        "id": "_kOcz-Lqpcz9",
        "colab_type": "code",
        "colab": {
          "base_uri": "https://localhost:8080/",
          "height": 191
        },
        "outputId": "98e6bbad-2b70-4f87-83f4-9388a6c81edd"
      },
      "source": [
        "data.feature_names"
      ],
      "execution_count": 11,
      "outputs": [
        {
          "output_type": "execute_result",
          "data": {
            "text/plain": [
              "array(['mean radius', 'mean texture', 'mean perimeter', 'mean area',\n",
              "       'mean smoothness', 'mean compactness', 'mean concavity',\n",
              "       'mean concave points', 'mean symmetry', 'mean fractal dimension',\n",
              "       'radius error', 'texture error', 'perimeter error', 'area error',\n",
              "       'smoothness error', 'compactness error', 'concavity error',\n",
              "       'concave points error', 'symmetry error',\n",
              "       'fractal dimension error', 'worst radius', 'worst texture',\n",
              "       'worst perimeter', 'worst area', 'worst smoothness',\n",
              "       'worst compactness', 'worst concavity', 'worst concave points',\n",
              "       'worst symmetry', 'worst fractal dimension'], dtype='<U23')"
            ]
          },
          "metadata": {
            "tags": []
          },
          "execution_count": 11
        }
      ]
    },
    {
      "cell_type": "code",
      "metadata": {
        "id": "7Gc_8EuTp259",
        "colab_type": "code",
        "colab": {}
      },
      "source": [
        "from sklearn.model_selection import train_test_split\n",
        "X_train, X_test, y_train, y_test = train_test_split(data.data,data.target,test_size=0.33)\n",
        "N,D = X_train.shape"
      ],
      "execution_count": 0,
      "outputs": []
    },
    {
      "cell_type": "code",
      "metadata": {
        "id": "fPO_DjStqsNj",
        "colab_type": "code",
        "colab": {}
      },
      "source": [
        "from sklearn.preprocessing import StandardScaler\n",
        "scaler = StandardScaler()\n",
        "X_train = scaler.fit_transform(X_train)\n",
        "X_test = scaler.transform(X_test)"
      ],
      "execution_count": 0,
      "outputs": []
    },
    {
      "cell_type": "code",
      "metadata": {
        "id": "JuK-PozXrYsg",
        "colab_type": "code",
        "colab": {
          "base_uri": "https://localhost:8080/",
          "height": 1000
        },
        "outputId": "de06e53f-e95c-456f-d0c9-e622c5f91e4a"
      },
      "source": [
        "model = tf.keras.models.Sequential([\n",
        "                                    tf.keras.layers.Input(shape=(D,)),\n",
        "                                    tf.keras.layers.Dense(1, activation='sigmoid')\n",
        "])\n",
        "model.compile(optimizer='adam', loss='binary_crossentropy', metrics=['accuracy'])\n",
        "r=model.fit(X_train, y_train, validation_data=(X_test, y_test), epochs=100)\n",
        "print(\"Train score:\", model.evaluate(X_train, y_train))\n",
        "print(\"Test score:\", model.evaluate(X_test, y_test))"
      ],
      "execution_count": 14,
      "outputs": [
        {
          "output_type": "stream",
          "text": [
            "WARNING:tensorflow:From /usr/local/lib/python3.6/dist-packages/tensorflow/python/ops/math_grad.py:1250: add_dispatch_support.<locals>.wrapper (from tensorflow.python.ops.array_ops) is deprecated and will be removed in a future version.\n",
            "Instructions for updating:\n",
            "Use tf.where in 2.0, which has the same broadcast rule as np.where\n",
            "Train on 381 samples, validate on 188 samples\n",
            "Epoch 1/100\n",
            "381/381 [==============================] - 0s 588us/sample - loss: 0.7445 - accuracy: 0.6037 - val_loss: 0.6634 - val_accuracy: 0.6277\n",
            "Epoch 2/100\n",
            "381/381 [==============================] - 0s 69us/sample - loss: 0.6847 - accuracy: 0.6457 - val_loss: 0.6155 - val_accuracy: 0.6383\n",
            "Epoch 3/100\n",
            "381/381 [==============================] - 0s 68us/sample - loss: 0.6313 - accuracy: 0.6798 - val_loss: 0.5725 - val_accuracy: 0.6862\n",
            "Epoch 4/100\n",
            "381/381 [==============================] - 0s 67us/sample - loss: 0.5840 - accuracy: 0.7008 - val_loss: 0.5333 - val_accuracy: 0.7234\n",
            "Epoch 5/100\n",
            "381/381 [==============================] - 0s 61us/sample - loss: 0.5409 - accuracy: 0.7375 - val_loss: 0.4994 - val_accuracy: 0.7340\n",
            "Epoch 6/100\n",
            "381/381 [==============================] - 0s 66us/sample - loss: 0.5046 - accuracy: 0.7638 - val_loss: 0.4687 - val_accuracy: 0.7447\n",
            "Epoch 7/100\n",
            "381/381 [==============================] - 0s 62us/sample - loss: 0.4711 - accuracy: 0.7979 - val_loss: 0.4415 - val_accuracy: 0.7553\n",
            "Epoch 8/100\n",
            "381/381 [==============================] - 0s 72us/sample - loss: 0.4407 - accuracy: 0.8084 - val_loss: 0.4179 - val_accuracy: 0.7766\n",
            "Epoch 9/100\n",
            "381/381 [==============================] - 0s 68us/sample - loss: 0.4158 - accuracy: 0.8346 - val_loss: 0.3958 - val_accuracy: 0.7926\n",
            "Epoch 10/100\n",
            "381/381 [==============================] - 0s 77us/sample - loss: 0.3919 - accuracy: 0.8399 - val_loss: 0.3764 - val_accuracy: 0.8191\n",
            "Epoch 11/100\n",
            "381/381 [==============================] - 0s 62us/sample - loss: 0.3703 - accuracy: 0.8478 - val_loss: 0.3590 - val_accuracy: 0.8351\n",
            "Epoch 12/100\n",
            "381/381 [==============================] - 0s 66us/sample - loss: 0.3514 - accuracy: 0.8609 - val_loss: 0.3437 - val_accuracy: 0.8457\n",
            "Epoch 13/100\n",
            "381/381 [==============================] - 0s 67us/sample - loss: 0.3352 - accuracy: 0.8688 - val_loss: 0.3291 - val_accuracy: 0.8564\n",
            "Epoch 14/100\n",
            "381/381 [==============================] - 0s 63us/sample - loss: 0.3197 - accuracy: 0.8766 - val_loss: 0.3159 - val_accuracy: 0.8670\n",
            "Epoch 15/100\n",
            "381/381 [==============================] - 0s 61us/sample - loss: 0.3060 - accuracy: 0.8845 - val_loss: 0.3038 - val_accuracy: 0.8883\n",
            "Epoch 16/100\n",
            "381/381 [==============================] - 0s 63us/sample - loss: 0.2934 - accuracy: 0.9003 - val_loss: 0.2926 - val_accuracy: 0.8936\n",
            "Epoch 17/100\n",
            "381/381 [==============================] - 0s 58us/sample - loss: 0.2823 - accuracy: 0.9003 - val_loss: 0.2825 - val_accuracy: 0.8989\n",
            "Epoch 18/100\n",
            "381/381 [==============================] - 0s 60us/sample - loss: 0.2716 - accuracy: 0.9160 - val_loss: 0.2729 - val_accuracy: 0.9149\n",
            "Epoch 19/100\n",
            "381/381 [==============================] - 0s 60us/sample - loss: 0.2622 - accuracy: 0.9213 - val_loss: 0.2643 - val_accuracy: 0.9202\n",
            "Epoch 20/100\n",
            "381/381 [==============================] - 0s 59us/sample - loss: 0.2535 - accuracy: 0.9239 - val_loss: 0.2562 - val_accuracy: 0.9255\n",
            "Epoch 21/100\n",
            "381/381 [==============================] - 0s 59us/sample - loss: 0.2456 - accuracy: 0.9318 - val_loss: 0.2487 - val_accuracy: 0.9255\n",
            "Epoch 22/100\n",
            "381/381 [==============================] - 0s 63us/sample - loss: 0.2386 - accuracy: 0.9396 - val_loss: 0.2415 - val_accuracy: 0.9255\n",
            "Epoch 23/100\n",
            "381/381 [==============================] - 0s 63us/sample - loss: 0.2317 - accuracy: 0.9396 - val_loss: 0.2348 - val_accuracy: 0.9309\n",
            "Epoch 24/100\n",
            "381/381 [==============================] - 0s 66us/sample - loss: 0.2254 - accuracy: 0.9475 - val_loss: 0.2285 - val_accuracy: 0.9362\n",
            "Epoch 25/100\n",
            "381/381 [==============================] - 0s 65us/sample - loss: 0.2194 - accuracy: 0.9501 - val_loss: 0.2228 - val_accuracy: 0.9362\n",
            "Epoch 26/100\n",
            "381/381 [==============================] - 0s 67us/sample - loss: 0.2145 - accuracy: 0.9501 - val_loss: 0.2173 - val_accuracy: 0.9468\n",
            "Epoch 27/100\n",
            "381/381 [==============================] - 0s 62us/sample - loss: 0.2091 - accuracy: 0.9501 - val_loss: 0.2121 - val_accuracy: 0.9521\n",
            "Epoch 28/100\n",
            "381/381 [==============================] - 0s 63us/sample - loss: 0.2046 - accuracy: 0.9528 - val_loss: 0.2071 - val_accuracy: 0.9521\n",
            "Epoch 29/100\n",
            "381/381 [==============================] - 0s 67us/sample - loss: 0.2000 - accuracy: 0.9528 - val_loss: 0.2025 - val_accuracy: 0.9574\n",
            "Epoch 30/100\n",
            "381/381 [==============================] - 0s 62us/sample - loss: 0.1960 - accuracy: 0.9554 - val_loss: 0.1980 - val_accuracy: 0.9574\n",
            "Epoch 31/100\n",
            "381/381 [==============================] - 0s 63us/sample - loss: 0.1922 - accuracy: 0.9554 - val_loss: 0.1938 - val_accuracy: 0.9574\n",
            "Epoch 32/100\n",
            "381/381 [==============================] - 0s 63us/sample - loss: 0.1884 - accuracy: 0.9554 - val_loss: 0.1900 - val_accuracy: 0.9574\n",
            "Epoch 33/100\n",
            "381/381 [==============================] - 0s 63us/sample - loss: 0.1850 - accuracy: 0.9554 - val_loss: 0.1861 - val_accuracy: 0.9574\n",
            "Epoch 34/100\n",
            "381/381 [==============================] - 0s 65us/sample - loss: 0.1818 - accuracy: 0.9554 - val_loss: 0.1826 - val_accuracy: 0.9574\n",
            "Epoch 35/100\n",
            "381/381 [==============================] - 0s 76us/sample - loss: 0.1787 - accuracy: 0.9580 - val_loss: 0.1791 - val_accuracy: 0.9574\n",
            "Epoch 36/100\n",
            "381/381 [==============================] - 0s 60us/sample - loss: 0.1759 - accuracy: 0.9580 - val_loss: 0.1758 - val_accuracy: 0.9628\n",
            "Epoch 37/100\n",
            "381/381 [==============================] - 0s 62us/sample - loss: 0.1729 - accuracy: 0.9580 - val_loss: 0.1727 - val_accuracy: 0.9628\n",
            "Epoch 38/100\n",
            "381/381 [==============================] - 0s 65us/sample - loss: 0.1704 - accuracy: 0.9580 - val_loss: 0.1698 - val_accuracy: 0.9628\n",
            "Epoch 39/100\n",
            "381/381 [==============================] - 0s 61us/sample - loss: 0.1679 - accuracy: 0.9580 - val_loss: 0.1669 - val_accuracy: 0.9628\n",
            "Epoch 40/100\n",
            "381/381 [==============================] - 0s 62us/sample - loss: 0.1656 - accuracy: 0.9580 - val_loss: 0.1641 - val_accuracy: 0.9628\n",
            "Epoch 41/100\n",
            "381/381 [==============================] - 0s 63us/sample - loss: 0.1632 - accuracy: 0.9580 - val_loss: 0.1615 - val_accuracy: 0.9628\n",
            "Epoch 42/100\n",
            "381/381 [==============================] - 0s 61us/sample - loss: 0.1612 - accuracy: 0.9580 - val_loss: 0.1589 - val_accuracy: 0.9628\n",
            "Epoch 43/100\n",
            "381/381 [==============================] - 0s 63us/sample - loss: 0.1590 - accuracy: 0.9580 - val_loss: 0.1566 - val_accuracy: 0.9628\n",
            "Epoch 44/100\n",
            "381/381 [==============================] - 0s 83us/sample - loss: 0.1570 - accuracy: 0.9606 - val_loss: 0.1542 - val_accuracy: 0.9681\n",
            "Epoch 45/100\n",
            "381/381 [==============================] - 0s 75us/sample - loss: 0.1551 - accuracy: 0.9633 - val_loss: 0.1520 - val_accuracy: 0.9681\n",
            "Epoch 46/100\n",
            "381/381 [==============================] - 0s 74us/sample - loss: 0.1533 - accuracy: 0.9633 - val_loss: 0.1499 - val_accuracy: 0.9681\n",
            "Epoch 47/100\n",
            "381/381 [==============================] - 0s 65us/sample - loss: 0.1516 - accuracy: 0.9633 - val_loss: 0.1478 - val_accuracy: 0.9681\n",
            "Epoch 48/100\n",
            "381/381 [==============================] - 0s 69us/sample - loss: 0.1499 - accuracy: 0.9633 - val_loss: 0.1458 - val_accuracy: 0.9681\n",
            "Epoch 49/100\n",
            "381/381 [==============================] - 0s 71us/sample - loss: 0.1484 - accuracy: 0.9633 - val_loss: 0.1438 - val_accuracy: 0.9681\n",
            "Epoch 50/100\n",
            "381/381 [==============================] - 0s 62us/sample - loss: 0.1468 - accuracy: 0.9659 - val_loss: 0.1420 - val_accuracy: 0.9681\n",
            "Epoch 51/100\n",
            "381/381 [==============================] - 0s 64us/sample - loss: 0.1454 - accuracy: 0.9685 - val_loss: 0.1402 - val_accuracy: 0.9681\n",
            "Epoch 52/100\n",
            "381/381 [==============================] - 0s 73us/sample - loss: 0.1438 - accuracy: 0.9685 - val_loss: 0.1385 - val_accuracy: 0.9681\n",
            "Epoch 53/100\n",
            "381/381 [==============================] - 0s 69us/sample - loss: 0.1424 - accuracy: 0.9685 - val_loss: 0.1368 - val_accuracy: 0.9681\n",
            "Epoch 54/100\n",
            "381/381 [==============================] - 0s 71us/sample - loss: 0.1411 - accuracy: 0.9685 - val_loss: 0.1351 - val_accuracy: 0.9681\n",
            "Epoch 55/100\n",
            "381/381 [==============================] - 0s 77us/sample - loss: 0.1398 - accuracy: 0.9685 - val_loss: 0.1335 - val_accuracy: 0.9681\n",
            "Epoch 56/100\n",
            "381/381 [==============================] - 0s 65us/sample - loss: 0.1386 - accuracy: 0.9685 - val_loss: 0.1320 - val_accuracy: 0.9681\n",
            "Epoch 57/100\n",
            "381/381 [==============================] - 0s 61us/sample - loss: 0.1374 - accuracy: 0.9685 - val_loss: 0.1305 - val_accuracy: 0.9681\n",
            "Epoch 58/100\n",
            "381/381 [==============================] - 0s 58us/sample - loss: 0.1362 - accuracy: 0.9685 - val_loss: 0.1290 - val_accuracy: 0.9734\n",
            "Epoch 59/100\n",
            "381/381 [==============================] - 0s 66us/sample - loss: 0.1351 - accuracy: 0.9685 - val_loss: 0.1277 - val_accuracy: 0.9734\n",
            "Epoch 60/100\n",
            "381/381 [==============================] - 0s 61us/sample - loss: 0.1340 - accuracy: 0.9685 - val_loss: 0.1263 - val_accuracy: 0.9734\n",
            "Epoch 61/100\n",
            "381/381 [==============================] - 0s 61us/sample - loss: 0.1330 - accuracy: 0.9685 - val_loss: 0.1250 - val_accuracy: 0.9734\n",
            "Epoch 62/100\n",
            "381/381 [==============================] - 0s 103us/sample - loss: 0.1319 - accuracy: 0.9685 - val_loss: 0.1237 - val_accuracy: 0.9734\n",
            "Epoch 63/100\n",
            "381/381 [==============================] - 0s 81us/sample - loss: 0.1309 - accuracy: 0.9711 - val_loss: 0.1226 - val_accuracy: 0.9734\n",
            "Epoch 64/100\n",
            "381/381 [==============================] - 0s 62us/sample - loss: 0.1299 - accuracy: 0.9711 - val_loss: 0.1213 - val_accuracy: 0.9734\n",
            "Epoch 65/100\n",
            "381/381 [==============================] - 0s 67us/sample - loss: 0.1290 - accuracy: 0.9711 - val_loss: 0.1201 - val_accuracy: 0.9734\n",
            "Epoch 66/100\n",
            "381/381 [==============================] - 0s 62us/sample - loss: 0.1281 - accuracy: 0.9711 - val_loss: 0.1189 - val_accuracy: 0.9734\n",
            "Epoch 67/100\n",
            "381/381 [==============================] - 0s 61us/sample - loss: 0.1272 - accuracy: 0.9711 - val_loss: 0.1178 - val_accuracy: 0.9734\n",
            "Epoch 68/100\n",
            "381/381 [==============================] - 0s 67us/sample - loss: 0.1264 - accuracy: 0.9711 - val_loss: 0.1167 - val_accuracy: 0.9734\n",
            "Epoch 69/100\n",
            "381/381 [==============================] - 0s 62us/sample - loss: 0.1255 - accuracy: 0.9711 - val_loss: 0.1157 - val_accuracy: 0.9734\n",
            "Epoch 70/100\n",
            "381/381 [==============================] - 0s 68us/sample - loss: 0.1247 - accuracy: 0.9711 - val_loss: 0.1146 - val_accuracy: 0.9734\n",
            "Epoch 71/100\n",
            "381/381 [==============================] - 0s 68us/sample - loss: 0.1239 - accuracy: 0.9738 - val_loss: 0.1137 - val_accuracy: 0.9734\n",
            "Epoch 72/100\n",
            "381/381 [==============================] - 0s 86us/sample - loss: 0.1232 - accuracy: 0.9738 - val_loss: 0.1126 - val_accuracy: 0.9734\n",
            "Epoch 73/100\n",
            "381/381 [==============================] - 0s 63us/sample - loss: 0.1224 - accuracy: 0.9738 - val_loss: 0.1117 - val_accuracy: 0.9734\n",
            "Epoch 74/100\n",
            "381/381 [==============================] - 0s 79us/sample - loss: 0.1217 - accuracy: 0.9764 - val_loss: 0.1107 - val_accuracy: 0.9734\n",
            "Epoch 75/100\n",
            "381/381 [==============================] - 0s 69us/sample - loss: 0.1210 - accuracy: 0.9764 - val_loss: 0.1098 - val_accuracy: 0.9734\n",
            "Epoch 76/100\n",
            "381/381 [==============================] - 0s 62us/sample - loss: 0.1203 - accuracy: 0.9764 - val_loss: 0.1089 - val_accuracy: 0.9734\n",
            "Epoch 77/100\n",
            "381/381 [==============================] - 0s 59us/sample - loss: 0.1196 - accuracy: 0.9764 - val_loss: 0.1081 - val_accuracy: 0.9734\n",
            "Epoch 78/100\n",
            "381/381 [==============================] - 0s 62us/sample - loss: 0.1189 - accuracy: 0.9764 - val_loss: 0.1072 - val_accuracy: 0.9734\n",
            "Epoch 79/100\n",
            "381/381 [==============================] - 0s 68us/sample - loss: 0.1183 - accuracy: 0.9764 - val_loss: 0.1063 - val_accuracy: 0.9734\n",
            "Epoch 80/100\n",
            "381/381 [==============================] - 0s 72us/sample - loss: 0.1177 - accuracy: 0.9764 - val_loss: 0.1055 - val_accuracy: 0.9734\n",
            "Epoch 81/100\n",
            "381/381 [==============================] - 0s 61us/sample - loss: 0.1170 - accuracy: 0.9764 - val_loss: 0.1047 - val_accuracy: 0.9787\n",
            "Epoch 82/100\n",
            "381/381 [==============================] - 0s 62us/sample - loss: 0.1165 - accuracy: 0.9764 - val_loss: 0.1040 - val_accuracy: 0.9787\n",
            "Epoch 83/100\n",
            "381/381 [==============================] - 0s 67us/sample - loss: 0.1159 - accuracy: 0.9764 - val_loss: 0.1032 - val_accuracy: 0.9787\n",
            "Epoch 84/100\n",
            "381/381 [==============================] - 0s 64us/sample - loss: 0.1153 - accuracy: 0.9764 - val_loss: 0.1025 - val_accuracy: 0.9787\n",
            "Epoch 85/100\n",
            "381/381 [==============================] - 0s 59us/sample - loss: 0.1147 - accuracy: 0.9764 - val_loss: 0.1017 - val_accuracy: 0.9787\n",
            "Epoch 86/100\n",
            "381/381 [==============================] - 0s 64us/sample - loss: 0.1142 - accuracy: 0.9764 - val_loss: 0.1010 - val_accuracy: 0.9787\n",
            "Epoch 87/100\n",
            "381/381 [==============================] - 0s 66us/sample - loss: 0.1136 - accuracy: 0.9764 - val_loss: 0.1002 - val_accuracy: 0.9787\n",
            "Epoch 88/100\n",
            "381/381 [==============================] - 0s 68us/sample - loss: 0.1131 - accuracy: 0.9764 - val_loss: 0.0996 - val_accuracy: 0.9787\n",
            "Epoch 89/100\n",
            "381/381 [==============================] - 0s 63us/sample - loss: 0.1126 - accuracy: 0.9764 - val_loss: 0.0989 - val_accuracy: 0.9787\n",
            "Epoch 90/100\n",
            "381/381 [==============================] - 0s 64us/sample - loss: 0.1121 - accuracy: 0.9764 - val_loss: 0.0982 - val_accuracy: 0.9787\n",
            "Epoch 91/100\n",
            "381/381 [==============================] - 0s 63us/sample - loss: 0.1116 - accuracy: 0.9764 - val_loss: 0.0976 - val_accuracy: 0.9787\n",
            "Epoch 92/100\n",
            "381/381 [==============================] - 0s 63us/sample - loss: 0.1111 - accuracy: 0.9764 - val_loss: 0.0970 - val_accuracy: 0.9840\n",
            "Epoch 93/100\n",
            "381/381 [==============================] - 0s 60us/sample - loss: 0.1106 - accuracy: 0.9764 - val_loss: 0.0963 - val_accuracy: 0.9840\n",
            "Epoch 94/100\n",
            "381/381 [==============================] - 0s 61us/sample - loss: 0.1102 - accuracy: 0.9764 - val_loss: 0.0957 - val_accuracy: 0.9840\n",
            "Epoch 95/100\n",
            "381/381 [==============================] - 0s 59us/sample - loss: 0.1097 - accuracy: 0.9764 - val_loss: 0.0951 - val_accuracy: 0.9840\n",
            "Epoch 96/100\n",
            "381/381 [==============================] - 0s 62us/sample - loss: 0.1092 - accuracy: 0.9764 - val_loss: 0.0945 - val_accuracy: 0.9840\n",
            "Epoch 97/100\n",
            "381/381 [==============================] - 0s 63us/sample - loss: 0.1088 - accuracy: 0.9764 - val_loss: 0.0939 - val_accuracy: 0.9840\n",
            "Epoch 98/100\n",
            "381/381 [==============================] - 0s 62us/sample - loss: 0.1084 - accuracy: 0.9764 - val_loss: 0.0933 - val_accuracy: 0.9840\n",
            "Epoch 99/100\n",
            "381/381 [==============================] - 0s 65us/sample - loss: 0.1079 - accuracy: 0.9764 - val_loss: 0.0927 - val_accuracy: 0.9840\n",
            "Epoch 100/100\n",
            "381/381 [==============================] - 0s 63us/sample - loss: 0.1075 - accuracy: 0.9764 - val_loss: 0.0921 - val_accuracy: 0.9840\n",
            "381/381 [==============================] - 0s 67us/sample - loss: 0.1073 - accuracy: 0.9764\n",
            "Train score: [0.10725637482298328, 0.97637796]\n",
            "188/188 [==============================] - 0s 42us/sample - loss: 0.0921 - accuracy: 0.9840\n",
            "Test score: [0.09213782450620164, 0.9840425]\n"
          ],
          "name": "stdout"
        }
      ]
    },
    {
      "cell_type": "code",
      "metadata": {
        "id": "ZP8eWGH4sxCz",
        "colab_type": "code",
        "colab": {
          "base_uri": "https://localhost:8080/",
          "height": 283
        },
        "outputId": "448f4046-acb1-4ea5-eb9d-c594dc12e25f"
      },
      "source": [
        "import matplotlib.pyplot as plt\n",
        "plt.plot(r.history['loss'], label='loss')\n",
        "plt.plot(r.history['val_loss'], label='val_loss')\n",
        "plt.legend()"
      ],
      "execution_count": 15,
      "outputs": [
        {
          "output_type": "execute_result",
          "data": {
            "text/plain": [
              "<matplotlib.legend.Legend at 0x7f515cfc4320>"
            ]
          },
          "metadata": {
            "tags": []
          },
          "execution_count": 15
        },
        {
          "output_type": "display_data",
          "data": {
            "image/png": "[encoded data removed]",
            "text/plain": [
              "<Figure size 432x288 with 1 Axes>"
            ]
          },
          "metadata": {
            "tags": [],
            "needs_background": "light"
          }
        }
      ]
    },
    {
      "cell_type": "code",
      "metadata": {
        "id": "OoFmjx18tXH1",
        "colab_type": "code",
        "colab": {
          "base_uri": "https://localhost:8080/",
          "height": 285
        },
        "outputId": "b0e51a79-f255-4200-ee61-f1e282afcb08"
      },
      "source": [
        "plt.plot(r.history['accuracy'], label='acc')\n",
        "plt.plot(r.history['val_accuracy'], label='val_acc')\n",
        "plt.legend()"
      ],
      "execution_count": 16,
      "outputs": [
        {
          "output_type": "execute_result",
          "data": {
            "text/plain": [
              "<matplotlib.legend.Legend at 0x7f515cfc06d8>"
            ]
          },
          "metadata": {
            "tags": []
          },
          "execution_count": 16
        },
        {
          "output_type": "display_data",
          "data": {
            "image/png": "[encoded data removed]",
            "text/plain": [
              "<Figure size 432x288 with 1 Axes>"
            ]
          },
          "metadata": {
            "tags": [],
            "needs_background": "light"
          }
        }
      ]
    }
  ]
}